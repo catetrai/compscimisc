{
 "cells": [
  {
   "cell_type": "markdown",
   "metadata": {},
   "source": [
    "# Classic Computer Science Problems in Python\n",
    "### David Kopec, Manning, 2019\n",
    "Source code: https://github.com/davecom/ClassicComputerScienceProblemsInPython\n",
    "\n",
    "Workbook by: Caterina Trainito, 2020-02-09"
   ]
  },
  {
   "cell_type": "markdown",
   "metadata": {},
   "source": [
    "## Chaper 1: Small problems"
   ]
  },
  {
   "cell_type": "markdown",
   "metadata": {},
   "source": [
    "### 1.1 The Fibonacci sequence"
   ]
  },
  {
   "cell_type": "markdown",
   "metadata": {},
   "source": [
    "Let's create an abstract base class for all our Fibonacci implementations."
   ]
  },
  {
   "cell_type": "code",
   "execution_count": 91,
   "metadata": {
    "scrolled": false
   },
   "outputs": [],
   "source": [
    "from abc import ABC, abstractmethod\n",
    "\n",
    "class Fib(ABC):\n",
    "    def __init__(self):\n",
    "        self.n_calls = 0\n",
    "\n",
    "    @abstractmethod\n",
    "    def run(self, n: int, incr: bool = True) -> int:\n",
    "        pass\n",
    "    \n",
    "    def get_ncalls(self, n: int) -> int:\n",
    "        self.run(n)\n",
    "        return self.n_calls\n",
    "    \n",
    "    def printn(self, n: int) -> str:\n",
    "        result = self.run(n)\n",
    "        sum_str = n if n < 2 else f'{self.run(n-2, incr=False)} + {self.run(n-1, incr=False)}'\n",
    "        return f'{self.__class__.__name__}({n}) = {sum_str} = {result} -> {self.n_calls} calls'\n"
   ]
  },
  {
   "cell_type": "markdown",
   "metadata": {},
   "source": [
    "#### Recursive plain\n",
    "Just the classic Fibonacci formula."
   ]
  },
  {
   "cell_type": "code",
   "execution_count": 92,
   "metadata": {
    "scrolled": true
   },
   "outputs": [
    {
     "name": "stdout",
     "output_type": "stream",
     "text": [
      "RecursiveFib(0) = 0 = 0 -> 1 calls\n",
      "RecursiveFib(1) = 1 = 1 -> 1 calls\n",
      "RecursiveFib(2) = 0 + 1 = 1 -> 3 calls\n",
      "RecursiveFib(3) = 1 + 1 = 2 -> 5 calls\n",
      "RecursiveFib(4) = 1 + 2 = 3 -> 9 calls\n",
      "RecursiveFib(5) = 2 + 3 = 5 -> 15 calls\n",
      "RecursiveFib(6) = 3 + 5 = 8 -> 25 calls\n",
      "RecursiveFib(7) = 5 + 8 = 13 -> 41 calls\n",
      "RecursiveFib(8) = 8 + 13 = 21 -> 67 calls\n",
      "RecursiveFib(9) = 13 + 21 = 34 -> 109 calls\n",
      "RecursiveFib(10) = 21 + 34 = 55 -> 177 calls\n",
      "RecursiveFib(20) = 2584 + 4181 = 6765 -> 21891 calls\n"
     ]
    }
   ],
   "source": [
    "class RecursiveFib(Fib):\n",
    "    def __init__(self):\n",
    "        super().__init__()\n",
    "        \n",
    "    def run(self, n: int, incr: bool = True) -> int:\n",
    "        if incr: self.n_calls += 1\n",
    "        if n < 2:  # base case\n",
    "            return n\n",
    "        return self.run(n-2, incr=incr) + self.run(n-1, incr=incr) # recursive case\n",
    "\n",
    "    \n",
    "for i in range(11):\n",
    "    print(RecursiveFib().printn(i))\n",
    "print(RecursiveFib().printn(20))"
   ]
  },
  {
   "cell_type": "markdown",
   "metadata": {},
   "source": [
    "#### Recursive with memoization using dict\n",
    "Uses a dict as homemade cache."
   ]
  },
  {
   "cell_type": "code",
   "execution_count": 93,
   "metadata": {
    "scrolled": false
   },
   "outputs": [
    {
     "name": "stdout",
     "output_type": "stream",
     "text": [
      "DictMemoFib(0) = 0 = 0 -> 1 calls\n",
      "DictMemoFib(1) = 1 = 1 -> 1 calls\n",
      "DictMemoFib(2) = 0 + 1 = 1 -> 3 calls\n",
      "DictMemoFib(3) = 1 + 1 = 2 -> 5 calls\n",
      "DictMemoFib(4) = 1 + 2 = 3 -> 7 calls\n",
      "DictMemoFib(5) = 2 + 3 = 5 -> 9 calls\n",
      "DictMemoFib(6) = 3 + 5 = 8 -> 11 calls\n",
      "DictMemoFib(7) = 5 + 8 = 13 -> 13 calls\n",
      "DictMemoFib(8) = 8 + 13 = 21 -> 15 calls\n",
      "DictMemoFib(9) = 13 + 21 = 34 -> 17 calls\n",
      "DictMemoFib(10) = 21 + 34 = 55 -> 19 calls\n",
      "DictMemoFib(20) = 2584 + 4181 = 6765 -> 39 calls\n"
     ]
    }
   ],
   "source": [
    "class DictMemoFib(Fib):\n",
    "    def __init__(self):\n",
    "        super().__init__()\n",
    "        self.memo = {0: 0, 1: 1}\n",
    "        \n",
    "    def run(self, n: int, incr: bool = True) -> int:\n",
    "        if incr: self.n_calls += 1\n",
    "        if n not in self.memo:\n",
    "            self.memo[n] = self.run(n-2, incr=incr) + self.run(n-1, incr=incr)\n",
    "        return self.memo[n]\n",
    "\n",
    "    \n",
    "for i in range(11):\n",
    "    print(DictMemoFib().printn(i))\n",
    "print(DictMemoFib().printn(20))"
   ]
  },
  {
   "cell_type": "markdown",
   "metadata": {},
   "source": [
    "#### Recursive with auto-memoization\n",
    "Uses `lru_cache()` decorator to cache the return value of the function the first time it is called for a given `n`."
   ]
  },
  {
   "cell_type": "code",
   "execution_count": 94,
   "metadata": {
    "scrolled": true
   },
   "outputs": [
    {
     "name": "stdout",
     "output_type": "stream",
     "text": [
      "AutoMemoFib(0) = 0 = 0 -> 1 calls\n",
      "AutoMemoFib(1) = 1 = 1 -> 1 calls\n",
      "AutoMemoFib(2) = 0 + 1 = 1 -> 3 calls\n",
      "AutoMemoFib(3) = 1 + 1 = 2 -> 4 calls\n",
      "AutoMemoFib(4) = 1 + 2 = 3 -> 5 calls\n",
      "AutoMemoFib(5) = 2 + 3 = 5 -> 6 calls\n",
      "AutoMemoFib(6) = 3 + 5 = 8 -> 7 calls\n",
      "AutoMemoFib(7) = 5 + 8 = 13 -> 8 calls\n",
      "AutoMemoFib(8) = 8 + 13 = 21 -> 9 calls\n",
      "AutoMemoFib(9) = 13 + 21 = 34 -> 10 calls\n",
      "AutoMemoFib(10) = 21 + 34 = 55 -> 11 calls\n",
      "AutoMemoFib(20) = 2584 + 4181 = 6765 -> 21 calls\n"
     ]
    }
   ],
   "source": [
    "from functools import lru_cache\n",
    "\n",
    "class AutoMemoFib(RecursiveFib):\n",
    "    def __init__(self):\n",
    "        super().__init__()\n",
    "        \n",
    "    @lru_cache(maxsize=None)\n",
    "    def run(self, n: int, incr: bool = True) -> int:\n",
    "        # Same algorithm as recursive implementation\n",
    "        return super().run(n, incr=incr)\n",
    "\n",
    "    \n",
    "for i in range(11):\n",
    "    print(AutoMemoFib().printn(i))\n",
    "print(AutoMemoFib().printn(20))"
   ]
  },
  {
   "cell_type": "markdown",
   "metadata": {},
   "source": [
    "#### Iterative solution\n",
    "Any problem that can be solved recursively can also be solved iteratively. In this case, this brings massive perfomance gains!"
   ]
  },
  {
   "cell_type": "code",
   "execution_count": 95,
   "metadata": {},
   "outputs": [
    {
     "name": "stdout",
     "output_type": "stream",
     "text": [
      "IterativeFib(0) = 0 = 0 -> 1 calls (for loops)\n",
      "IterativeFib(1) = 1 = 1 -> 1 calls (for loops)\n",
      "IterativeFib(2) = 0 + 1 = 1 -> 1 calls (for loops)\n",
      "IterativeFib(3) = 1 + 1 = 2 -> 2 calls (for loops)\n",
      "IterativeFib(4) = 1 + 2 = 3 -> 3 calls (for loops)\n",
      "IterativeFib(5) = 2 + 3 = 5 -> 4 calls (for loops)\n",
      "IterativeFib(6) = 3 + 5 = 8 -> 5 calls (for loops)\n",
      "IterativeFib(7) = 5 + 8 = 13 -> 6 calls (for loops)\n",
      "IterativeFib(8) = 8 + 13 = 21 -> 7 calls (for loops)\n",
      "IterativeFib(9) = 13 + 21 = 34 -> 8 calls (for loops)\n",
      "IterativeFib(10) = 21 + 34 = 55 -> 9 calls (for loops)\n",
      "IterativeFib(20) = 2584 + 4181 = 6765 -> 19 calls (for loops)\n"
     ]
    }
   ],
   "source": [
    "class IterativeFib(Fib):\n",
    "    def __init__(self):\n",
    "        super().__init__()\n",
    "        \n",
    "    def run(self, n: int, incr: bool = True) -> int:\n",
    "        if n < 2:\n",
    "            if incr: self.n_calls = 1\n",
    "        if n == 0: return n\n",
    "        prev: int = 0\n",
    "        next: int = 1\n",
    "        for _ in range(1, n):\n",
    "            # Here, n_calls is the number of loops\n",
    "            if incr: self.n_calls += 1\n",
    "            prev, next = next, prev + next\n",
    "        return next\n",
    "    \n",
    "    def printn(self, n: int) -> str:\n",
    "        return super().printn(n) + ' (for loops)'\n",
    "    \n",
    "    \n",
    "for i in range(11):\n",
    "    print(IterativeFib().printn(i))\n",
    "print(IterativeFib().printn(20))"
   ]
  },
  {
   "cell_type": "markdown",
   "metadata": {},
   "source": [
    "#### Summary of Fibonacci implementations\n",
    "Check out the differences on the log scale (second plot)!"
   ]
  },
  {
   "cell_type": "code",
   "execution_count": 135,
   "metadata": {
    "scrolled": false
   },
   "outputs": [
    {
     "data": {
      "image/png": "[encoded data removed]",
      "text/plain": [
       "<Figure size 936x288 with 2 Axes>"
      ]
     },
     "metadata": {},
     "output_type": "display_data"
    }
   ],
   "source": [
    "%matplotlib inline\n",
    "import matplotlib.pyplot as plt\n",
    "\n",
    "\n",
    "def get_subclasses(cls):\n",
    "    # recursive function to get all Fibonacci implementations\n",
    "    # thx to https://stackoverflow.com/a/3862957/10905347\n",
    "    return set(cls.__subclasses__()).union(\n",
    "        [s for c in cls.__subclasses__() for s in get_subclasses(c)])\n",
    "\n",
    "\n",
    "plt.style.use('seaborn-whitegrid')\n",
    "plt.figure(figsize=(13,4))\n",
    "\n",
    "# Linear scale\n",
    "ax1 = plt.subplot(121)\n",
    "x = [i for i in range(1,11)]\n",
    "for fib in get_subclasses(Fib):\n",
    "    plt.plot(x, [fib().get_ncalls(i) for i in x], 'o-', label=fib.__name__)\n",
    "    \n",
    "ax1.set(xlabel='n', ylabel='n_calls', title='Fibonacci (linear scale)')\n",
    "plt.legend();\n",
    "\n",
    "# Log scale\n",
    "ax2 = plt.subplot(122)\n",
    "x = [i for i in range(1,21)]\n",
    "for fib in get_subclasses(Fib):\n",
    "    plt.plot(x, [fib().get_ncalls(i) for i in x], 'o-', label=fib.__name__)\n",
    "\n",
    "ax2.set(xlabel='n', ylabel='n_calls', yscale='log', title='Fibonacci (log scale)')\n",
    "plt.legend();\n"
   ]
  },
  {
   "cell_type": "markdown",
   "metadata": {},
   "source": [
    "### 1.2 Trivial compression"
   ]
  },
  {
   "cell_type": "markdown",
   "metadata": {},
   "source": [
    "In Python, `int` values can be of arbitrary size (number of bits). So you can store any bit string (sequence of 0b0 and 0b1) as an `int`. Stored this way, bit strings are easier to manipulate using bitwise operations.\n",
    "\n",
    "Let's create a wrapper class for `int` to represent a bit string with words of arbitrary length:"
   ]
  },
  {
   "cell_type": "code",
   "execution_count": 227,
   "metadata": {
    "scrolled": true
   },
   "outputs": [
    {
     "name": "stdout",
     "output_type": "stream",
     "text": [
      "Bit string '0b1000001011010': 3-bit words, 4 words total\n",
      "Words: ['0b0', '0b1', '0b11', '0b10']\n"
     ]
    }
   ],
   "source": [
    "class BitString(object):\n",
    "    def __init__(self, word_length: int):\n",
    "        self.word_length = word_length  # number of bits in each word\n",
    "        self.max_value = 2 ** word_length - 1\n",
    "        self._bs = 1  # starting bit\n",
    "        \n",
    "    def add(self, bits: int) -> None:\n",
    "        if bits < 0 or bits > self.max_value:\n",
    "            raise ValueError(f'Value must be between 0 and {self.max_value}, '\\\n",
    "                             f'because this is a {self.word_length}-bit bit string')\n",
    "        self._bs <<= self.word_length  # left shift adds 0's to the right of the bit string\n",
    "        self._bs |= bits # OR the new bits with the zero-padding\n",
    "        \n",
    "    def print_words(self) -> str:\n",
    "        return str([bin(w) for w in self])\n",
    "        \n",
    "    def __iter__(self):\n",
    "        max_shift = self.word_length * (len(self)-1)\n",
    "        word_selector = self.max_value  # selects the last (rightmost) word\n",
    "        for i in range(max_shift, -1, -self.word_length):\n",
    "            yield self._bs >> i & word_selector\n",
    "        \n",
    "    def __len__(self):\n",
    "        # number of words in the bit string\n",
    "        return self._bs.bit_length() // self.word_length\n",
    "\n",
    "    def __str__(self):\n",
    "        return bin(self._bs)\n",
    "\n",
    "    \n",
    "bs = BitString(3)\n",
    "bs.add(0)\n",
    "bs.add(1)\n",
    "bs.add(3)\n",
    "bs.add(2)\n",
    "print(f'Bit string \\'{bs}\\': {bs.word_length}-bit words, {len(bs)} words total')\n",
    "print('Words:', bs.print_words())"
   ]
  },
  {
   "cell_type": "markdown",
   "metadata": {},
   "source": [
    "Implementation of `CompressedGene` using the `BitString` wrapper as the backing data store:"
   ]
  },
  {
   "cell_type": "code",
   "execution_count": 225,
   "metadata": {},
   "outputs": [
    {
     "name": "stdout",
     "output_type": "stream",
     "text": [
      "Decompressed representation: AGTCTT\n",
      "Compressed representation: 0b1001011011111\n"
     ]
    }
   ],
   "source": [
    "class CompressedGene(object):\n",
    "    nucleotide_to_bit = {'A':0, 'C':1, 'G':2, 'T':3}\n",
    "    bit_to_nucleotide = {v: k for k, v in nucleotide_to_bit.items()}\n",
    "    \n",
    "    def __init__(self, gene: str):\n",
    "        self.bit_string = self._compress(gene)\n",
    "        \n",
    "    def _compress(self, gene: str) -> BitString:\n",
    "        bit_string = BitString(2)\n",
    "        for nucleotide in gene.upper():\n",
    "            try:\n",
    "                bit_string.add(self.nucleotide_to_bit[nucleotide])\n",
    "            except KeyError:\n",
    "                raise ValueError('Invalid nucleotide: value can only be \"A\", \"C\", \"G\" or \"T\"')\n",
    "        return bit_string\n",
    "                \n",
    "    def decompress(self) -> str:\n",
    "        gene_str = ''\n",
    "        for word in self.bit_string:\n",
    "            try:\n",
    "                gene_str += self.bit_to_nucleotide[word]\n",
    "            except KeyError:\n",
    "                raise ValueError('Invalid bit: value can only be 0, 1, 2 or 3')\n",
    "        return gene_str\n",
    "    \n",
    "    def __str__(self):\n",
    "        return self.decompress()\n",
    "    \n",
    "    \n",
    "gene = CompressedGene('agtctt')\n",
    "print('Decompressed representation:', gene)\n",
    "print('Compressed representation:', gene.bit_string)"
   ]
  },
  {
   "cell_type": "markdown",
   "metadata": {},
   "source": [
    "Compare memory usage of regular string gene vs. compressed bit-string gene:"
   ]
  },
  {
   "cell_type": "code",
   "execution_count": 226,
   "metadata": {},
   "outputs": [
    {
     "name": "stdout",
     "output_type": "stream",
     "text": [
      "Original and decompressed strings are the same: True\n",
      "Original size: 8649 bytes\n",
      "Compressed size: 2320 bytes\n",
      "Compression ratio: 3:1\n"
     ]
    }
   ],
   "source": [
    "from sys import getsizeof\n",
    "\n",
    "original = 'TAGGGATTAACCGTTATATATATATAGCCATGGATCGATTATATAGGGATTAACCGTTATATATATATAGCCATGGATCGATTATA' * 100\n",
    "compressed = CompressedGene(original)\n",
    "\n",
    "original_size = getsizeof(original)\n",
    "compressed_size = getsizeof(compressed.bit_string._bs)\n",
    "\n",
    "print('Original and decompressed strings are the same:', original == str(compressed))\n",
    "print('Original size:', original_size, 'bytes')\n",
    "print('Compressed size:', compressed_size, 'bytes')\n",
    "print('Compression ratio: {}:{}'.format(original_size // compressed_size, 1))"
   ]
  },
  {
   "cell_type": "markdown",
   "metadata": {},
   "source": [
    "### 1.3 Unbreakable encryption"
   ]
  },
  {
   "cell_type": "markdown",
   "metadata": {},
   "source": [
    "A one-time pad uses a symmetric key pair, such that:\n",
    "\n",
    "`Original data + Secret random key -> (encryption) -> Product`, and\n",
    "\n",
    "`Product + Secret random key -> (decryption) -> Original data`.\n",
    "\n",
    "Here is a one-time pad for Unicode strings:"
   ]
  },
  {
   "cell_type": "code",
   "execution_count": 137,
   "metadata": {},
   "outputs": [
    {
     "data": {
      "text/plain": [
       "'This string was encrypted and decrypted using a One-Time Pad. 😍'"
      ]
     },
     "execution_count": 137,
     "metadata": {},
     "output_type": "execute_result"
    }
   ],
   "source": [
    "from secrets import token_bytes\n",
    "from sys import byteorder\n",
    "from typing import Tuple\n",
    "\n",
    "def gen_random_key(length: int) -> int:\n",
    "    return int.from_bytes(token_bytes(length), byteorder)\n",
    "\n",
    "def encrypt(original) -> Tuple[int, int]:\n",
    "    original_bytes: bytes = original.encode()  # str to bytes\n",
    "    original_int: int = int.from_bytes(original_bytes, byteorder)\n",
    "    secret = gen_random_key(len(original_bytes))\n",
    "    encrypted = original_int ^ secret  # XOR\n",
    "    return encrypted, secret\n",
    "\n",
    "def decrypt(encrypted: int, secret: int) -> str:\n",
    "    decrypted: int = encrypted ^ secret\n",
    "    decrypted_length: int = (decrypted.bit_length() + 7) // 8  # round up to avoid off-by-one errors\n",
    "    decrypted_bytes = decrypted.to_bytes(decrypted_length, byteorder)\n",
    "    return decrypted_bytes.decode()\n",
    "\n",
    "original = 'This string was encrypted and decrypted using a One-Time Pad. 😍'\n",
    "decrypt(*encrypt(original))"
   ]
  },
  {
   "cell_type": "markdown",
   "metadata": {},
   "source": [
    "**Exercise**: use a one-time pad to encrypt images.\n",
    "TODO: clean up code."
   ]
  },
  {
   "cell_type": "code",
   "execution_count": 76,
   "metadata": {
    "scrolled": true
   },
   "outputs": [
    {
     "data": {
      "image/png": "[encoded data removed]",
      "text/plain": [
       "<Figure size 432x288 with 3 Axes>"
      ]
     },
     "metadata": {
      "needs_background": "light"
     },
     "output_type": "display_data"
    }
   ],
   "source": [
    "from sys import getsizeof\n",
    "import matplotlib.pyplot as plt\n",
    "import matplotlib.image as mpimg\n",
    "import matplotlib._png as png\n",
    "import numpy as np\n",
    "\n",
    "\n",
    "def img_bytes_size():\n",
    "    return len(original.tobytes())\n",
    "\n",
    "def nparray_from_bytes(bytesarr, dtype, shape) -> bytes:\n",
    "    return np.frombuffer(bytesarr, dtype=dtype).reshape(shape)\n",
    "\n",
    "def encrypt(original: np.ndarray):\n",
    "    original_bytes: bytes = original.tobytes()\n",
    "    original_int: int = int.from_bytes(original_bytes, byteorder)\n",
    "    secret: int = gen_random_key(img_bytes_size())\n",
    "    encrypted: int = original_int ^ secret  # XOR\n",
    "    return encrypted, secret, original.shape, original.dtype\n",
    "\n",
    "def decrypt(encrypted: int, secret: int, array_size, array_type) -> str:\n",
    "    decrypted: int = encrypted ^ secret\n",
    "    # decrypted is smaller in size (bytes) -- why?\n",
    "    # should it not be identical to encrypted and secret?\n",
    "    decrypted_bytes: bytes = decrypted.to_bytes(img_bytes_size(), byteorder)\n",
    "    decrypted_array = np.frombuffer(decrypted_bytes, dtype=array_type).reshape(array_size)\n",
    "    return decrypted_array\n",
    "\n",
    "\n",
    "img = png.read_png_int('python-logo.png')\n",
    "original = np.array(img, dtype=int)  # int64\n",
    "encrypted, _, _, _ = encrypt(original)\n",
    "encrypted_array = nparray_from_bytes(encrypted.to_bytes(len(original.tobytes()), byteorder), original.dtype, original.shape)\n",
    "decrypted_array = decrypt(*encrypt(original))\n",
    "\n",
    "fig, ax = plt.subplots(nrows=1, ncols=3)\n",
    "ax[0].imshow(original)\n",
    "ax[0].axis('off')\n",
    "ax[0].set_title('Original')\n",
    "ax[1].imshow(np.clip(encrypted_array, 0, 255))\n",
    "ax[1].set_title('Encrypted')\n",
    "ax[1].axis('off')\n",
    "ax[2].imshow(decrypted_array)\n",
    "ax[2].set_title('Decrypted')\n",
    "ax[2].axis('off')\n",
    "plt.show();"
   ]
  },
  {
   "cell_type": "markdown",
   "metadata": {},
   "source": [
    "### 1.5 The Towers of Hanoi"
   ]
  },
  {
   "cell_type": "markdown",
   "metadata": {},
   "source": [
    "Here is a solver for the Towers of Hanoi problem for an arbitrary number of discs and towers.\n",
    "\n",
    "A tower is implemented using a custom `Stack` class. This is just a thin wrapper around Python's built-in list methods `append()` and `pop()`.\n",
    "\n",
    "Note that the solution for >3 towers still uses just a single auxiliary tower, so it is not optimal. The fastest solution requires a different algorithm that is beyond the scope of this workbook. See https://en.wikipedia.org/wiki/Tower_of_Hanoi#With_four_pegs_and_beyond."
   ]
  },
  {
   "cell_type": "code",
   "execution_count": 256,
   "metadata": {},
   "outputs": [
    {
     "name": "stdout",
     "output_type": "stream",
     "text": [
      "HanoiSolver(num_towers=3, num_discs=3)\n",
      "\n",
      "Initial towers: [[1, 2, 3], [], []]\n",
      "\n",
      "[[1, 2, 3], [], []]\n",
      "[[1, 2], [], [3]]\n",
      "[[1], [2], [3]]\n",
      "[[1], [2, 3], []]\n",
      "[[], [2, 3], [1]]\n",
      "[[3], [2], [1]]\n",
      "[[3], [], [1, 2]]\n",
      "[[], [], [1, 2, 3]]\n",
      "\n",
      "Final towers: [[], [], [1, 2, 3]]\n",
      "\n",
      "Number of moves: 7\n"
     ]
    }
   ],
   "source": [
    "from copy import deepcopy\n",
    "\n",
    "class Stack(object):\n",
    "    def __init__(self):\n",
    "        self._container = []\n",
    "    \n",
    "    def push(self, item):\n",
    "        self._container.append(item)\n",
    "        \n",
    "    def pop(self):\n",
    "        return self._container.pop()\n",
    "    \n",
    "    def __bool__(self):\n",
    "        return self._container\n",
    "    \n",
    "    def __eq__(self, other):\n",
    "        return self.__class__ == other.__class__ and\\\n",
    "                self._container == other._container\n",
    "        \n",
    "    def __repr__(self):\n",
    "        return repr(self._container)\n",
    "    \n",
    "    \n",
    "class HanoiSolver(object):\n",
    "    def __init__(self, num_towers, num_discs, verbose=False):\n",
    "        if num_towers < 3:\n",
    "            raise ValueError('Hanoi Towers problem must have at least 3 towers.')\n",
    "        if num_discs < 1:\n",
    "            raise ValueError('Hanoi Towers problem must have at least 1 disc.')\n",
    "        self.num_towers = num_towers \n",
    "        self.num_discs = num_discs\n",
    "        self.verbose = verbose\n",
    "        self.count_iter = 0\n",
    "        self._towers = [Stack() for _ in range(num_towers)]\n",
    "        for i in range(1, num_discs+1):\n",
    "            self._towers[0].push(i)  # push all discs on 1st tower\n",
    "        self._initial_towers = deepcopy(self._towers)  # keep copy of initial state\n",
    "    \n",
    "    def hanoi(self, begin, end, temp, n):\n",
    "        if n == 1:  # base case, final step\n",
    "            end.push(begin.pop())\n",
    "            if self.verbose:\n",
    "                print(self)\n",
    "            self.count_iter += 1\n",
    "        else:\n",
    "            self.hanoi(begin, temp, end, n-1)\n",
    "            self.hanoi(begin, end, temp, 1)\n",
    "            self.hanoi(temp, end, begin, n-1)\n",
    "            \n",
    "    def run(self):\n",
    "        if self.verbose:\n",
    "            print(self)\n",
    "        self.hanoi(self._towers[0], self._towers[-1], self._towers[1], self.num_discs)\n",
    "        # Check that solution is valid\n",
    "        assert self._initial_towers[0] == self._towers[-1], 'Solution is invalid!'\n",
    "        return self\n",
    "    \n",
    "    def __repr__(self):\n",
    "        return f'{self.__class__.__name__}(num_towers={self.num_towers}, num_discs={self.num_discs})'\n",
    "    \n",
    "    def __str__(self):\n",
    "        return str(self._towers)\n",
    "\n",
    "\n",
    "hs = HanoiSolver(num_towers=3, num_discs=3, verbose=True)\n",
    "print(repr(hs))\n",
    "print(f'\\nInitial towers: {hs}\\n')\n",
    "print(f'\\nFinal towers: {hs.run()}')\n",
    "print(f'\\nNumber of moves: {hs.count_iter}')"
   ]
  },
  {
   "cell_type": "code",
   "execution_count": 257,
   "metadata": {},
   "outputs": [
    {
     "data": {
      "image/png": "[encoded data removed]",
      "text/plain": [
       "<Figure size 360x216 with 1 Axes>"
      ]
     },
     "metadata": {},
     "output_type": "display_data"
    }
   ],
   "source": [
    "%matplotlib inline\n",
    "import matplotlib.pyplot as plt\n",
    "\n",
    "plt.style.use('seaborn-whitegrid')\n",
    "fig = plt.figure(figsize=(5,3))\n",
    "ax = plt.axes()\n",
    "\n",
    "num_discs = [i for i in range(1, 11)]\n",
    "\n",
    "plt.plot(num_discs, [HanoiSolver(3, d).run().count_iter for d in num_discs],\n",
    "         'o-', label='num_towers=3')\n",
    "    \n",
    "ax.set(xlabel='num_discs', ylabel='count_moves', yscale='log',\n",
    "       title='Towers of Hanoi (log scale)')\n",
    "plt.legend();"
   ]
  },
  {
   "cell_type": "code",
   "execution_count": null,
   "metadata": {},
   "outputs": [],
   "source": []
  }
 ],
 "metadata": {
  "kernelspec": {
   "display_name": "Python 3",
   "language": "python",
   "name": "python3"
  },
  "language_info": {
   "codemirror_mode": {
    "name": "ipython",
    "version": 3
   },
   "file_extension": ".py",
   "mimetype": "text/x-python",
   "name": "python",
   "nbconvert_exporter": "python",
   "pygments_lexer": "ipython3",
   "version": "3.7.5"
  }
 },
 "nbformat": 4,
 "nbformat_minor": 4
}
