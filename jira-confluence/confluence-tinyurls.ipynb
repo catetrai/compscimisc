{
 "cells": [
  {
   "cell_type": "markdown",
   "metadata": {},
   "source": [
    "# Confluence Tiny URLs and the magic of Base64\n",
    "\n",
    "#confluence #base64 #encodings #urls"
   ]
  },
  {
   "cell_type": "markdown",
   "metadata": {},
   "source": [
    "## What are tiny URLs in Confluence?\n",
    "\n",
    "If you have ever shared a Confluence link – be it an internal wiki page, or a public Atlassian blogpost – chances are you have used one of these URL formats:\n",
    "\n",
    "1. **Pretty URL**, which includes the page title: https://wiki.softwareplant.com/display/DOCUMENTATION/About+BigPicture\n",
    "2. **'Ugly' URL**, which includes the numeric page ID: https://wiki.softwareplant.com/pages/viewpage.action?pageId=201819180\n",
    "3. **Tiny URL**, which is generated when you click on the 'Share' button: https://wiki.softwareplant.com/x/LIQHD\n",
    "\n",
    "For sure it's convenient to have a choice between pretty URLs and regular URLs. Pretty URLs convey the content of the page, but break if the page title or space changes, can become too long, and are not always available (in case the title contains special characters). Regular URLs are bounded in length and will always point to the page regardless of renaming, but look 'ugly' (the 'viewpage.action' bit is just noise).\n",
    "\n",
    "Tiny URLs are just like regular URLs, but much easier on the eye. Besides being 'tweetable', they are easy to remember and type out.\n",
    "\n",
    "And yet, they contain exactly the same information of a regular link, which uses the much longer numeric page ID. How is this achieved?\n",
    "\n",
    "To answer this, we need to take a look at how encodings can be used to compress data and adapt it to a text-only medium like the URL."
   ]
  },
  {
   "cell_type": "markdown",
   "metadata": {},
   "source": [
    "## A tiny URL string _is_ the page ID\n",
    "\n",
    "Given that a tiny URL uniquely identifies a piece of Confluence content, it is (unsurprisingly) derived from the numeric page ID.\n",
    "\n",
    "It is actually _exactly the same_ value as the page ID! But instead of using a decimal or Base10 representation (like the number 84803642), it is uses Base64 representation. The same exact bytes, just translated to a different encoding.\n",
    "\n",
    "Below is a Python function to calculate the tiny URL of a page, given the page ID. Note that this was is best-effort adaptation of the Perl code shown in [this Atlassian KB article](https://confluence.atlassian.com/confkb/how-to-programmatically-generate-the-tiny-link-of-a-confluence-page-956713432.html)."
   ]
  },
  {
   "cell_type": "code",
   "execution_count": 104,
   "metadata": {},
   "outputs": [],
   "source": [
    "import base64\n",
    "import re\n",
    "\n",
    "\n",
    "def pageid_to_tinystring(pageid):\n",
    "    # 1. Turn the page ID into its bytestring representation.\n",
    "    #    PageID is an unsigned long (32-bit) integer.\n",
    "    #    Little-endianness is assumed (although not explicitly\n",
    "    #    specified in the corresponding Perl function).\n",
    "    pageid_bytes = int(pageid).to_bytes(4, 'little')\n",
    "    \n",
    "    # 2. Encode bytes into base64 (with URL-safe characters)\n",
    "    #    and then decode into a base64 string\n",
    "    tinystring_raw = base64.urlsafe_b64encode(pageid_bytes).decode()\n",
    "    \n",
    "    # 3. Strip out any padding ('=' characters) and leading 'zero' bits\n",
    "    #    (these become trailing 'A' characters in little-endian base64)\n",
    "    tinystring = re.split('A*=*$', tinystring_raw)[0]\n",
    "    \n",
    "    # 4. We have the tiny string!\n",
    "    return tinystring\n",
    "\n",
    "def tinystring_to_pageid(tinystring):\n",
    "    # 1. Pad the base64 string (otherwise decoder will throw an error).\n",
    "    #    Nice hack: just append leading zeros and padding, Python will\n",
    "    #    ignore any excess padding (thx to stackoverflow.com/a/2942039)\n",
    "    tinystring_padded = tinystring + 'AA==='\n",
    "    \n",
    "    # 2. Convert the base64 string into raw bytes\n",
    "    pageid_bytes = base64.urlsafe_b64decode(tinystring_padded)\n",
    "    \n",
    "    # 3. Interpret those bytes as 32-bit unsigned integer\n",
    "    return int.from_bytes(pageid_bytes, 'little')\n",
    "\n",
    "\n",
    "# Example\n",
    "pageid = 84803642\n",
    "assert pageid == tinystring_to_pageid(pageid_to_tinystring(pageid))"
   ]
  },
  {
   "cell_type": "markdown",
   "metadata": {},
   "source": [
    "Let's run our algorithm on a set of publicly available Confluence pages, and check that it computes the correct tiny URL and back to the page ID:"
   ]
  },
  {
   "cell_type": "code",
   "execution_count": 114,
   "metadata": {},
   "outputs": [
    {
     "name": "stdout",
     "output_type": "stream",
     "text": [
      "PageID\t\tTinyURL string\n",
      "\n",
      "84803642\tOgAOBQ\n",
      "135987203\tAwAbC\n",
      "136085540\tJIAcC\n",
      "136609846\tNoAkC\n",
      "142901377\tgYCEC\n",
      "143360025\tGYCLC\n",
      "143491152\tUICNC\n",
      "144867453\tfYCiC\n",
      "144932914\tMoCjC\n",
      "144932960\tYICjC\n",
      "149618744\tOADrC\n",
      "154763266\tAoA5CQ\n",
      "164561016\teADPCQ\n",
      "164593691\tG4DPCQ\n",
      "164593760\tYIDPCQ\n",
      "164593767\tZ4DPCQ\n",
      "164659244\tLIDQCQ\n",
      "164659251\tM4DQCQ\n",
      "164692019\tMwDRCQ\n",
      "164692065\tYQDRCQ\n"
     ]
    }
   ],
   "source": [
    "import requests\n",
    "import json\n",
    "\n",
    "baseurl = 'https://tempo-io.atlassian.net'\n",
    "\n",
    "def gen_page_tinyurls(baseurl):\n",
    "    resp = requests.get(baseurl + '/wiki/rest/api/content?type=page&limit=20')\n",
    "    resp.raise_for_status()\n",
    "    pages = resp.json()['results']\n",
    "    for page in pages:\n",
    "        pageid = page['id']\n",
    "        tinystring = page['_links']['tinyui'].split('/')[-1]\n",
    "        assert int(pageid) == tinystring_to_pageid(pageid_to_tinystring(pageid)), \\\n",
    "                f'TinyURL calculation is incorrect for pageID {pageid}, tinyURL {tinystring}'\n",
    "        yield (pageid, tinystring)\n",
    "\n",
    "print('PageID\\t\\tTinyURL string\\n')\n",
    "for vals in gen_page_tinyurls(baseurl):\n",
    "    print('\\t'.join(vals))"
   ]
  },
  {
   "cell_type": "markdown",
   "metadata": {},
   "source": [
    "## References\n",
    "\n",
    "- [How to programmatically generate the tiny link of a Confluence page](https://confluence.atlassian.com/confkb/how-to-programmatically-generate-the-tiny-link-of-a-confluence-page-956713432.html)\n",
    "- [Will YouTube Ever Run Out Of Video IDs?](https://www.youtube.com/watch?v=gocwRvLhDf8)\n",
    "- [URL Shortening (Wikipedia)](https://en.wikipedia.org/wiki/URL_shortening)"
   ]
  },
  {
   "cell_type": "code",
   "execution_count": null,
   "metadata": {},
   "outputs": [],
   "source": []
  }
 ],
 "metadata": {
  "kernelspec": {
   "display_name": "Python 3",
   "language": "python",
   "name": "python3"
  },
  "language_info": {
   "codemirror_mode": {
    "name": "ipython",
    "version": 3
   },
   "file_extension": ".py",
   "mimetype": "text/x-python",
   "name": "python",
   "nbconvert_exporter": "python",
   "pygments_lexer": "ipython3",
   "version": "3.7.5"
  }
 },
 "nbformat": 4,
 "nbformat_minor": 4
}
